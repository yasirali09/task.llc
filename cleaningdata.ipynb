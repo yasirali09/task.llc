{
 "cells": [
  {
   "cell_type": "code",
   "execution_count": 71,
   "id": "83c95123",
   "metadata": {},
   "outputs": [],
   "source": [
    "import os\n",
    "import pandas as pd\n",
    "import seaborn as sns\n",
    "import numpy as np\n",
    "files = os.listdir(\"C:/Users/hp/Desktop/task/task.llc/data\")"
   ]
  },
  {
   "cell_type": "code",
   "execution_count": 2,
   "id": "bbb1972c",
   "metadata": {},
   "outputs": [
    {
     "data": {
      "text/plain": [
       "['annual average expenditure 55-64.csv',\n",
       " 'average expenditure 25-34.csv',\n",
       " 'average expenditure 35-44.csv',\n",
       " 'average_annual_expenditure_45-54.csv',\n",
       " 'construction_workers_wages_index.csv',\n",
       " 'consumer_price_index.csv',\n",
       " 'employees_construction.csv',\n",
       " 'GDP.csv',\n",
       " 'HCAI_GOVT.csv',\n",
       " 'HCAI_GOVT.xls',\n",
       " 'HCAI_GSE.csv',\n",
       " 'HCAI_GSE.xls',\n",
       " 'HCAI_PP.csv',\n",
       " 'HCAI_PP.xls',\n",
       " 'homeownershiprate.csv',\n",
       " 'houses_for_sale_to_houses_sold.csv',\n",
       " 'Industrial_production_cement.csv',\n",
       " 'job gains private.csv',\n",
       " 'MORTGAGE30US.csv',\n",
       " 'new_privately_owned_housing_under_construction.csv',\n",
       " 'nonresidentialsa-valueOfConstriction-Monthly.csv',\n",
       " 'nonresidentialsa-valueOfConstriction-Monthly.xls',\n",
       " 'non_residential_private_construction_spending.csv',\n",
       " 'Permits_Granted_Monthly.csv',\n",
       " 'personal saving rate.csv',\n",
       " 'Population_Quarterly.csv',\n",
       " 'poverty_rate.csv',\n",
       " 'privately_owned_housing_units_completed.csv',\n",
       " 'producer_price_index_concrete_brick.csv',\n",
       " 'renter_occupied_housing_rate.csv',\n",
       " 'residentialsa-ValueOfConstruction.csv',\n",
       " 'residentialsa-ValueOfConstruction.xls',\n",
       " 'retail_sales_home_furnishing_stores.csv',\n",
       " 'target.csv',\n",
       " 'Unemployment rate.csv',\n",
       " 'unemployment_rate_construction.csv',\n",
       " 'wages and salaries.csv']"
      ]
     },
     "execution_count": 2,
     "metadata": {},
     "output_type": "execute_result"
    }
   ],
   "source": [
    "files"
   ]
  },
  {
   "cell_type": "code",
   "execution_count": 3,
   "id": "8bef24e6",
   "metadata": {},
   "outputs": [
    {
     "data": {
      "text/plain": [
       "DatetimeIndex(['2001-01-31', '2001-02-28', '2001-03-31', '2001-04-30',\n",
       "               '2001-05-31', '2001-06-30', '2001-07-31', '2001-08-31',\n",
       "               '2001-09-30', '2001-10-31',\n",
       "               ...\n",
       "               '2020-03-31', '2020-04-30', '2020-05-31', '2020-06-30',\n",
       "               '2020-07-31', '2020-08-31', '2020-09-30', '2020-10-31',\n",
       "               '2020-11-30', '2020-12-31'],\n",
       "              dtype='datetime64[ns]', length=240, freq='M')"
      ]
     },
     "execution_count": 3,
     "metadata": {},
     "output_type": "execute_result"
    }
   ],
   "source": [
    "##for interpolating annual data to monthly data\n",
    "monthly_rng=pd.date_range(\"01-2001\",\"01-2021\",freq=\"M\")\n",
    "monthly_rng"
   ]
  },
  {
   "cell_type": "code",
   "execution_count": 4,
   "id": "642d87c2",
   "metadata": {},
   "outputs": [
    {
     "data": {
      "text/plain": [
       "DatetimeIndex(['2001-03-31', '2001-06-30', '2001-09-30', '2001-12-31',\n",
       "               '2002-03-31', '2002-06-30', '2002-09-30', '2002-12-31',\n",
       "               '2003-03-31', '2003-06-30', '2003-09-30', '2003-12-31',\n",
       "               '2004-03-31', '2004-06-30', '2004-09-30', '2004-12-31',\n",
       "               '2005-03-31', '2005-06-30', '2005-09-30', '2005-12-31',\n",
       "               '2006-03-31', '2006-06-30', '2006-09-30', '2006-12-31',\n",
       "               '2007-03-31', '2007-06-30', '2007-09-30', '2007-12-31',\n",
       "               '2008-03-31', '2008-06-30', '2008-09-30', '2008-12-31',\n",
       "               '2009-03-31', '2009-06-30', '2009-09-30', '2009-12-31',\n",
       "               '2010-03-31', '2010-06-30', '2010-09-30', '2010-12-31',\n",
       "               '2011-03-31', '2011-06-30', '2011-09-30', '2011-12-31',\n",
       "               '2012-03-31', '2012-06-30', '2012-09-30', '2012-12-31',\n",
       "               '2013-03-31', '2013-06-30', '2013-09-30', '2013-12-31',\n",
       "               '2014-03-31', '2014-06-30', '2014-09-30', '2014-12-31',\n",
       "               '2015-03-31', '2015-06-30', '2015-09-30', '2015-12-31',\n",
       "               '2016-03-31', '2016-06-30', '2016-09-30', '2016-12-31',\n",
       "               '2017-03-31', '2017-06-30', '2017-09-30', '2017-12-31',\n",
       "               '2018-03-31', '2018-06-30', '2018-09-30', '2018-12-31',\n",
       "               '2019-03-31', '2019-06-30', '2019-09-30', '2019-12-31',\n",
       "               '2020-03-31', '2020-06-30', '2020-09-30', '2020-12-31'],\n",
       "              dtype='datetime64[ns]', freq='Q-DEC')"
      ]
     },
     "execution_count": 4,
     "metadata": {},
     "output_type": "execute_result"
    }
   ],
   "source": [
    "qtr_rng = pd.date_range(\"01-2001\",\"1-2021\", freq = \"Q\")\n",
    "qtr_rng"
   ]
  },
  {
   "cell_type": "code",
   "execution_count": 74,
   "id": "d56d3e0f",
   "metadata": {},
   "outputs": [],
   "source": [
    "# Converting annual data to monthly data\n",
    "\n",
    "def annual_monthly(annual_values, index_for_new_df, digits=2):\n",
    "    monthly_values = []\n",
    "    \n",
    "    for i in range(1, len(annual_values)):\n",
    "        annual_change = annual_values[i] - annual_values[i-1]\n",
    "        monthly_change = round(annual_change / 12, digits)\n",
    "        prev_value = annual_values[i-1]\n",
    "        \n",
    "        for j in range(12):\n",
    "            monthly_values.append(prev_value + monthly_change)\n",
    "            prev_value = prev_value + monthly_change\n",
    "            \n",
    "    return pd.DataFrame(monthly_values, index=index_for_new_df)\n",
    "\n",
    "#Converting quarterly data to monthly data\n",
    "\n",
    "#def quaterly_monthly(quaterly_values, index_for_new_df, digits=2):\n",
    "#    monthly_values = []\n",
    "    \n",
    "#    for i in range(1, len(quaterly_values)):\n",
    "#        quaterly_change = quaterly_values[i] - quaterly_values[i-1]\n",
    "#        monthly_change = round(quaterly_change / 3, digits)\n",
    "#        tchange = [quaterly_values[i-1] + monthly_change * k for k in range(3)]\n",
    "#        monthly_values.extend(tchange)\n",
    "#            \n",
    "#    return pd.DataFrame(monthly_values, index=index_for_new_df)\n",
    "\n",
    "# Function to convert quarterly data to monthly data\n",
    "def quaterly_monthly(quaterly_values, index_for_new_df, digits=2):\n",
    "    monthly_values = []\n",
    "\n",
    "    for i in range(1, len(quaterly_values)):\n",
    "        quaterly_change = quaterly_values[i] - quaterly_values[i-1]\n",
    "        monthly_change = round(quaterly_change / 3, digits)\n",
    "        prev_value = quaterly_values[i-1]\n",
    "\n",
    "        for j in range(3):\n",
    "            monthly_values.append(prev_value + monthly_change)\n",
    "            prev_value = prev_value + monthly_change\n",
    "\n",
    "    # Trim the monthly_values list to match the length of index_for_new_df\n",
    "    monthly_values = monthly_values[:len(index_for_new_df)]\n",
    "\n",
    "    return pd.DataFrame(monthly_values, index=index_for_new_df)"
   ]
  },
  {
   "cell_type": "markdown",
   "id": "6a3a0517",
   "metadata": {},
   "source": [
    "## Annual Average Expenditure 55-64"
   ]
  },
  {
   "cell_type": "code",
   "execution_count": 6,
   "id": "b2075b36",
   "metadata": {},
   "outputs": [],
   "source": [
    "tdf = pd.read_csv(\"C:/Users/hp/Desktop/task/task.llc/data/annual average expenditure 55-64.csv\")\n",
    "tdf = tdf[[\"Year\",\"Value\"]]\n",
    "\n",
    "tdf.Year = tdf.Year.astype(\"str\")\n",
    "tdf.Year = pd.to_datetime(tdf.Year,format=\"%Y\")\n",
    "\n",
    "\n",
    "tdf = annual_monthly(tdf[\"Value\"],monthly_rng,0)\n",
    "\n",
    "tdf.rename(columns = {0:\"avg_expenditure_55_64\"},inplace=True)\n",
    "tdf.index = tdf.index.strftime(\"%Y-%m\")\n",
    "\n",
    "\n",
    "tdf.to_csv(\"C:/Users/hp/Desktop/task/task.llc/cleaned_data/avg-expenditure-55-64.csv\",index=True)"
   ]
  },
  {
   "cell_type": "markdown",
   "id": "f353a7a1",
   "metadata": {},
   "source": [
    "## Annual Average expenditure 25-34"
   ]
  },
  {
   "cell_type": "code",
   "execution_count": 7,
   "id": "78812def",
   "metadata": {},
   "outputs": [],
   "source": [
    "tdf = pd.read_csv(\"C:/Users/hp/Desktop/task/task.llc/data/average expenditure 25-34.csv\")\n",
    "tdf = tdf[[\"Year\",\"Value\"]]\n",
    "\n",
    "tdf.Year = tdf.Year.astype(\"str\")\n",
    "tdf.Year = pd.to_datetime(tdf.Year,format=\"%Y\")\n",
    "\n",
    "\n",
    "tdf = annual_monthly(tdf[\"Value\"],monthly_rng,0)\n",
    "\n",
    "tdf.rename(columns = {0:\"avg_expenditure_25_34\"},inplace=True)\n",
    "tdf.index = tdf.index.strftime(\"%Y-%m\")\n",
    "\n",
    "tdf.to_csv(\"C:/Users/hp/Desktop/task/task.llc/cleaned_data/avg-expenditure-25-34.csv\",index=True)"
   ]
  },
  {
   "cell_type": "markdown",
   "id": "dd3e5e39",
   "metadata": {},
   "source": [
    "## Annual Average Expenditure 35-44"
   ]
  },
  {
   "cell_type": "code",
   "execution_count": 8,
   "id": "acbca13f",
   "metadata": {},
   "outputs": [],
   "source": [
    "tdf = pd.read_csv(\"C:/Users/hp/Desktop/task/task.llc/data/average expenditure 35-44.csv\")\n",
    "tdf = tdf[[\"Year\",\"Value\"]]\n",
    "\n",
    "tdf.Year = tdf.Year.astype(\"str\")\n",
    "tdf.Year = pd.to_datetime(tdf.Year,format=\"%Y\")\n",
    "\n",
    "\n",
    "tdf = annual_monthly(tdf[\"Value\"],monthly_rng,0)\n",
    "\n",
    "tdf.rename(columns = {0:\"avg_expenditure_35_44\"},inplace=True)\n",
    "tdf.index = tdf.index.strftime(\"%Y-%m\")\n",
    "\n",
    "tdf.to_csv(\"C:/Users/hp/Desktop/task/task.llc/cleaned_data/avg-expenditure-35-44.csv\",index=True)"
   ]
  },
  {
   "cell_type": "code",
   "execution_count": 9,
   "id": "9332ddf8",
   "metadata": {},
   "outputs": [],
   "source": [
    "tdf = pd.read_csv(\"C:/Users/hp/Desktop/task/task.llc/data/average_annual_expenditure_45-54.csv\")\n",
    "\n",
    "tdf.DATE = pd.to_datetime(tdf.DATE,format=\"%Y-%m-%d\")\n",
    "tdf.DATE = tdf.DATE.dt.strftime('%Y-%m')\n",
    "tdf.set_index(tdf.DATE,drop=True,inplace=True)\n",
    "tdf.drop(columns={\"DATE\"},inplace=True)\n",
    "tdf = tdf[\"2000-01\":\"2020-12\"]\n",
    "\n",
    "\n",
    "tdf = annual_monthly(tdf[\"CXUTOTALEXPLB0405M\"],monthly_rng,0)\n",
    "\n",
    "tdf.rename(columns = {0:\"avg_expenditure_45_54\"},inplace=True)\n",
    "tdf.index = tdf.index.strftime(\"%Y-%m\")\n",
    "tdf\n",
    "\n",
    "tdf.to_csv(\"C:/Users/hp/Desktop/task/task.llc/cleaned_data/avg-expenditure-45-54.csv\",index=True)"
   ]
  },
  {
   "cell_type": "markdown",
   "id": "ce6aaa9b",
   "metadata": {},
   "source": [
    "## Consumer Price Index"
   ]
  },
  {
   "cell_type": "code",
   "execution_count": 10,
   "id": "46fe72c0",
   "metadata": {},
   "outputs": [],
   "source": [
    "tdf = pd.read_csv(\"C:/Users/hp/Desktop/task/task.llc/data/consumer_price_index.csv\")\n",
    "\n",
    "tdf.DATE = pd.to_datetime(tdf.DATE,format=\"%d-%m-%Y\")\n",
    "tdf.DATE = tdf.DATE.dt.strftime('%Y-%m')\n",
    "tdf.set_index(tdf.DATE,drop=True,inplace=True)\n",
    "tdf.drop(columns={\"DATE\"},inplace=True)\n",
    "tdf = tdf[\"2001-01\":\"2020-12\"]\n",
    "tdf.to_csv(\"C:/Users/hp/Desktop/task/task.llc/cleaned_data/consumer_price_index.csv\")"
   ]
  },
  {
   "cell_type": "markdown",
   "id": "f1ede0b1",
   "metadata": {},
   "source": [
    "## Employees Construction"
   ]
  },
  {
   "cell_type": "code",
   "execution_count": 11,
   "id": "5e5b58a9",
   "metadata": {},
   "outputs": [],
   "source": [
    "tdf = pd.read_csv(\"C:/Users/hp/Desktop/task/task.llc/data/employees_construction.csv\")\n",
    "tdf\n",
    "tdf.DATE = pd.to_datetime(tdf.DATE,format=\"%Y-%m-%d\")\n",
    "tdf.DATE = tdf.DATE.dt.strftime('%Y-%m')\n",
    "tdf.set_index(tdf.DATE,drop=True,inplace=True)\n",
    "tdf.drop(columns={\"DATE\"},inplace=True)\n",
    "tdf = tdf[\"2001-01\":\"2020-12\"]\n",
    "tdf.rename(columns={\"USCONS\":\"employees_construction\"},inplace=True)\n",
    "tdf.to_csv(\"C:/Users/hp/Desktop/task/task.llc/cleaned_data/employees_construction.csv\")"
   ]
  },
  {
   "cell_type": "code",
   "execution_count": 12,
   "id": "f0c2ce12",
   "metadata": {},
   "outputs": [
    {
     "data": {
      "text/plain": [
       "<Axes: xlabel='DATE', ylabel='employees_construction'>"
      ]
     },
     "execution_count": 12,
     "metadata": {},
     "output_type": "execute_result"
    },
    {
     "data": {
      "image/png": "[encoded data removed]",
      "text/plain": [
       "<Figure size 640x480 with 1 Axes>"
      ]
     },
     "metadata": {},
     "output_type": "display_data"
    }
   ],
   "source": [
    "sns.lineplot(data=tdf, x=\"DATE\", y=\"employees_construction\")"
   ]
  },
  {
   "cell_type": "markdown",
   "id": "11c7de9f",
   "metadata": {},
   "source": [
    "## GDP"
   ]
  },
  {
   "cell_type": "code",
   "execution_count": 13,
   "id": "47fb370a",
   "metadata": {},
   "outputs": [],
   "source": [
    "tdf = pd.read_csv(\"C:/Users/hp/Desktop/task/task.llc/data/GDP.csv\")\n",
    "\n",
    "tdf.DATE = pd.to_datetime(tdf.DATE,format=\"%d-%m-%Y\")\n",
    "tdf.DATE = tdf.DATE.dt.strftime('%Y-%m')\n",
    "tdf.set_index(tdf.DATE,drop=True,inplace=True)\n",
    "tdf.drop(columns={\"DATE\"},inplace=True)\n",
    "tdf = tdf[\"2001-01\":\"2021-01\"]\n",
    "tdf = quaterly_monthly(tdf.GDP,monthly_rng)\n",
    "\n",
    "\n",
    "tdf.rename(columns = {0:\"GDP\"},inplace=True)\n",
    "tdf.index = tdf.index.strftime(\"%Y-%m\")\n",
    "tdf\n",
    "tdf.to_csv(\"C:/Users/hp/Desktop/task/task.llc/cleaned_data/GDP.csv\")"
   ]
  },
  {
   "cell_type": "markdown",
   "id": "f2f71774",
   "metadata": {},
   "source": [
    "## HCAI_GOVT"
   ]
  },
  {
   "cell_type": "code",
   "execution_count": 15,
   "id": "ce8df9fb",
   "metadata": {},
   "outputs": [],
   "source": [
    "tdf = pd.read_csv(\"C:/Users/hp/Desktop/task/task.llc/data/HCAI_GOVT.csv\")\n",
    "quarters = {1:1,2:4,3:7,4:10}\n",
    "\n",
    "tdf.Quarter= tdf.Quarter.map(quarters)\n",
    "tdf.Year = tdf.Year.astype(\"str\") + \"-\" + tdf.Quarter.astype(\"str\")\n",
    "\n",
    "tdf[\"DATE\"] = pd.to_datetime(tdf.Year,format=\"%Y-%m\")\n",
    "tdf.DATE = tdf.DATE.dt.strftime('%Y-%m')\n",
    "tdf.set_index(tdf.DATE,drop=True,inplace=True)\n",
    "tdf.drop(columns={\"Year\",\"DATE\",\"Quarter\",\"Borrower\\nRisk\",\"Product\\nRisk\"},inplace=True)\n",
    "tdf = tdf[\"2001-01\":\"2021-04\"]\n",
    "tdf = quaterly_monthly(tdf[\"Total\\nRisk\"],monthly_rng)\n",
    "\n",
    "\n",
    "tdf.rename(columns = {0:\"HCAI_GOVT\"},inplace=True)\n",
    "tdf.index = tdf.index.strftime(\"%Y-%m\")\n",
    "tdf\n",
    "tdf.to_csv(\"C:/Users/hp/Desktop/task/task.llc/cleaned_data/HCAI_GOVT.csv\")"
   ]
  },
  {
   "cell_type": "markdown",
   "id": "f072a4f3",
   "metadata": {},
   "source": [
    "## HCAI_GSE"
   ]
  },
  {
   "cell_type": "code",
   "execution_count": 16,
   "id": "23b4adb6",
   "metadata": {},
   "outputs": [],
   "source": [
    "tdf = pd.read_csv(\"C:/Users/hp/Desktop/task/task.llc/data/HCAI_GSE.csv\")\n",
    "quarters = {1:1,2:4,3:7,4:10}\n",
    "\n",
    "tdf.Quarter= tdf.Quarter.map(quarters)\n",
    "tdf.Year = tdf.Year.astype(\"str\") + \"-\" + tdf.Quarter.astype(\"str\")\n",
    "\n",
    "tdf[\"DATE\"] = pd.to_datetime(tdf.Year,format=\"%Y-%m\")\n",
    "tdf.DATE = tdf.DATE.dt.strftime('%Y-%m')\n",
    "tdf.set_index(tdf.DATE,drop=True,inplace=True)\n",
    "tdf.drop(columns={\"Year\",\"DATE\",\"Quarter\",\"Borrower\\nRisk\",\"Product\\nRisk\"},inplace=True)\n",
    "tdf = tdf[\"2001-01\":\"2021-4\"]\n",
    "tdf = quaterly_monthly(tdf[\"Total\\nRisk\"],monthly_rng)\n",
    "\n",
    "\n",
    "tdf.rename(columns = {0:\"HCAI_GSE\"},inplace=True)\n",
    "tdf.index = tdf.index.strftime(\"%Y-%m\")\n",
    "tdf\n",
    "tdf.to_csv(\"C:/Users/hp/Desktop/task/task.llc/cleaned_data/HCAI_GSE.csv\")"
   ]
  },
  {
   "cell_type": "markdown",
   "id": "19ffe247",
   "metadata": {},
   "source": [
    "## HCAI_PP"
   ]
  },
  {
   "cell_type": "code",
   "execution_count": 17,
   "id": "01632930",
   "metadata": {},
   "outputs": [],
   "source": [
    "tdf = pd.read_csv(\"C:/Users/hp/Desktop/task/task.llc/data/HCAI_PP.csv\")\n",
    "quarters = {1:1,2:4,3:7,4:10}\n",
    "\n",
    "tdf.Quarter= tdf.Quarter.map(quarters)\n",
    "tdf.Year = tdf.Year.astype(\"str\") + \"-\" + tdf.Quarter.astype(\"str\")\n",
    "\n",
    "tdf[\"DATE\"] = pd.to_datetime(tdf.Year,format=\"%Y-%m\")\n",
    "tdf.DATE = tdf.DATE.dt.strftime('%Y-%m')\n",
    "tdf.set_index(tdf.DATE,drop=True,inplace=True)\n",
    "tdf.drop(columns={\"Year\",\"DATE\",\"Quarter\",\"Borrower\\nRisk\",\"Product\\nRisk\"},inplace=True)\n",
    "tdf = tdf[\"2001-01\":\"2021-4\"]\n",
    "tdf = quaterly_monthly(tdf[\"Total\\nRisk\"],monthly_rng)\n",
    "\n",
    "\n",
    "tdf.rename(columns = {0:\"HCAI_PP\"},inplace=True)\n",
    "tdf.index = tdf.index.strftime(\"%Y-%m\")\n",
    "tdf\n",
    "tdf.to_csv(\"C:/Users/hp/Desktop/task/task.llc/cleaned_data/HCAI_PP.csv\")"
   ]
  },
  {
   "cell_type": "markdown",
   "id": "1c4c8639",
   "metadata": {},
   "source": [
    "## homeownershiprate"
   ]
  },
  {
   "cell_type": "code",
   "execution_count": null,
   "id": "65007c0d",
   "metadata": {},
   "outputs": [],
   "source": [
    "tdf = pd.read_csv(\"../data/homeownershiprate.csv\")\n",
    "\n",
    "tdf = tdf.iloc[::-1].reset_index(drop=True)\n",
    "\n",
    "\n",
    "quaters = tdf[[\"First\",\"Second\",\"Third\",\"Fourth\"]]\n",
    "\n",
    "quaterly_values = []\n",
    "for i in range(21):\n",
    "    quaterly_values.extend(quaters.T[i])\n",
    "    \n",
    "tdf = quaterly_monthly(quaterly_values,monthly_rng)\n",
    "tdf.rename(columns = {0:\"home-ownership-rate\"},inplace=True)\n",
    "tdf.index = tdf.index.strftime(\"%Y-%m\")\n",
    "tdf\n",
    "tdf.to_csv(\"../data_cleaned/home-ownership-rate.csv\")"
   ]
  },
  {
   "cell_type": "markdown",
   "id": "884df918",
   "metadata": {},
   "source": [
    "## houses_for_sale_houses_sold"
   ]
  },
  {
   "cell_type": "code",
   "execution_count": 32,
   "id": "5f9b0088",
   "metadata": {},
   "outputs": [],
   "source": [
    "tdf = pd.read_csv(\"C:/Users/hp/Desktop/task/task.llc/data/houses_for_sale_to_houses_sold.csv\")\n",
    "tdf[\"DATE\"] = pd.to_datetime(tdf.DATE,format=\"%Y-%m\")\n",
    "tdf.DATE = tdf.DATE.dt.strftime('%Y-%m')\n",
    "tdf.set_index(tdf.DATE,drop=True,inplace=True)\n",
    "tdf.drop(columns={\"DATE\"},inplace=True)\n",
    "\n",
    "tdf = tdf[\"2001-01\":\"2020-12\"]\n",
    "tdf.rename(columns={\"MSACSR\":\"houses-for-sale-to-sold\"},inplace=True)\n",
    "\n",
    "tdf.to_csv(\"C:/Users/hp/Desktop/task/task.llc/cleaned_data/houses_for_sale_to_houses_sold.csv\")"
   ]
  },
  {
   "cell_type": "markdown",
   "id": "1ce7329f",
   "metadata": {},
   "source": [
    "## job gains private"
   ]
  },
  {
   "cell_type": "code",
   "execution_count": 35,
   "id": "803b4a77",
   "metadata": {},
   "outputs": [],
   "source": [
    "tdf = pd.read_csv(\"C:/Users/hp/Desktop/task/task.llc/data/job gains private.csv\")\n",
    "\n",
    "def quaterly_monthly_changed(quaterly_values, index_for_new_df, digits=2):\n",
    "    monthly_values = []\n",
    "\n",
    "    for i in range(0, len(quaterly_values) - 3, 4):\n",
    "        tlist = list(quaterly_values[i:i + 4])\n",
    "\n",
    "        for j in range(0, 4):\n",
    "            quaterly_change = tlist[j]\n",
    "            monthly_change = round(quaterly_change / 3, digits)\n",
    "            tchange = [monthly_change] * 3\n",
    "            monthly_values.extend(tchange)\n",
    "\n",
    "    # Trim the monthly_values list to match the length of index_for_new_df\n",
    "    monthly_values = monthly_values[:len(index_for_new_df)]\n",
    "\n",
    "    return pd.DataFrame(monthly_values, index=index_for_new_df)\n",
    "    \n",
    "    \n",
    "tdf = quaterly_monthly_changed(tdf[\"Value\"],monthly_rng)\n",
    "tdf.rename(columns={\"0\":\"job_gains_private\"},inplace=True)\n",
    "tdf\n",
    "tdf.to_csv(\"C:/Users/hp/Desktop/task/task.llc/cleaned_data/job_gains_private.csv\")"
   ]
  },
  {
   "cell_type": "code",
   "execution_count": 37,
   "id": "1d8d84d1",
   "metadata": {},
   "outputs": [],
   "source": [
    "tdf = pd.read_csv(\"C:/Users/hp/Desktop/task/task.llc/data/MORTGAGE30US.csv\")\n",
    "\n",
    "tdf.DATE = pd.to_datetime(tdf.DATE,format=\"%d-%m-%Y\")\n",
    "tdf.set_index(\"DATE\",inplace=True)\n",
    "tdf = tdf.resample(\"M\").mean()\n",
    "tdf.index = tdf.index.strftime(\"%Y-%m\")\n",
    "tdf = tdf[\"2001-01\":\"2020-12\"]\n",
    "tdf\n",
    "tdf.to_csv(\"C:/Users/hp/Desktop/task/task.llc/cleaned_data/MORTGAGE_30US.csv\")"
   ]
  },
  {
   "cell_type": "markdown",
   "id": "1cde6443",
   "metadata": {},
   "source": [
    "## new_privately_owned_housing_under_construction"
   ]
  },
  {
   "cell_type": "code",
   "execution_count": 39,
   "id": "c76c990b",
   "metadata": {},
   "outputs": [
    {
     "data": {
      "text/html": [
       "<div>\n",
       "<style scoped>\n",
       "    .dataframe tbody tr th:only-of-type {\n",
       "        vertical-align: middle;\n",
       "    }\n",
       "\n",
       "    .dataframe tbody tr th {\n",
       "        vertical-align: top;\n",
       "    }\n",
       "\n",
       "    .dataframe thead th {\n",
       "        text-align: right;\n",
       "    }\n",
       "</style>\n",
       "<table border=\"1\" class=\"dataframe\">\n",
       "  <thead>\n",
       "    <tr style=\"text-align: right;\">\n",
       "      <th></th>\n",
       "      <th>pvt_owned_house_under_const</th>\n",
       "    </tr>\n",
       "    <tr>\n",
       "      <th>DATE</th>\n",
       "      <th></th>\n",
       "    </tr>\n",
       "  </thead>\n",
       "  <tbody>\n",
       "    <tr>\n",
       "      <th>2001-01</th>\n",
       "      <td>986.0</td>\n",
       "    </tr>\n",
       "    <tr>\n",
       "      <th>2001-02</th>\n",
       "      <td>987.0</td>\n",
       "    </tr>\n",
       "    <tr>\n",
       "      <th>2001-03</th>\n",
       "      <td>1001.0</td>\n",
       "    </tr>\n",
       "    <tr>\n",
       "      <th>2001-04</th>\n",
       "      <td>1007.0</td>\n",
       "    </tr>\n",
       "    <tr>\n",
       "      <th>2001-05</th>\n",
       "      <td>1015.0</td>\n",
       "    </tr>\n",
       "    <tr>\n",
       "      <th>...</th>\n",
       "      <td>...</td>\n",
       "    </tr>\n",
       "    <tr>\n",
       "      <th>2020-08</th>\n",
       "      <td>1212.0</td>\n",
       "    </tr>\n",
       "    <tr>\n",
       "      <th>2020-09</th>\n",
       "      <td>1218.0</td>\n",
       "    </tr>\n",
       "    <tr>\n",
       "      <th>2020-10</th>\n",
       "      <td>1228.0</td>\n",
       "    </tr>\n",
       "    <tr>\n",
       "      <th>2020-11</th>\n",
       "      <td>1247.0</td>\n",
       "    </tr>\n",
       "    <tr>\n",
       "      <th>2020-12</th>\n",
       "      <td>1264.0</td>\n",
       "    </tr>\n",
       "  </tbody>\n",
       "</table>\n",
       "<p>240 rows × 1 columns</p>\n",
       "</div>"
      ],
      "text/plain": [
       "         pvt_owned_house_under_const\n",
       "DATE                                \n",
       "2001-01                        986.0\n",
       "2001-02                        987.0\n",
       "2001-03                       1001.0\n",
       "2001-04                       1007.0\n",
       "2001-05                       1015.0\n",
       "...                              ...\n",
       "2020-08                       1212.0\n",
       "2020-09                       1218.0\n",
       "2020-10                       1228.0\n",
       "2020-11                       1247.0\n",
       "2020-12                       1264.0\n",
       "\n",
       "[240 rows x 1 columns]"
      ]
     },
     "execution_count": 39,
     "metadata": {},
     "output_type": "execute_result"
    }
   ],
   "source": [
    "tdf = pd.read_csv(\"C:/Users/hp/Desktop/task/task.llc/data/new_privately_owned_housing_under_construction.csv\")\n",
    "\n",
    "tdf.DATE = pd.to_datetime(tdf.DATE,format=\"%Y-%m-%d\")\n",
    "tdf.set_index(\"DATE\",inplace=True)\n",
    "\n",
    "tdf.index = tdf.index.strftime(\"%Y-%m\")\n",
    "tdf = tdf[\"2001-01\":\"2020-12\"]\n",
    "tdf.rename(columns={\"UNDCONTSA\":\"pvt_owned_house_under_const\"},inplace=True)\n",
    "tdf.to_csv(\"C:/Users/hp/Desktop/task/task.llc/cleaned_data/new_privately_owned_housing_under_construction.csv\")\n",
    "tdf"
   ]
  },
  {
   "cell_type": "markdown",
   "id": "a6556c2b",
   "metadata": {},
   "source": [
    "## residentailsa-ValueOfConstruction"
   ]
  },
  {
   "cell_type": "code",
   "execution_count": 44,
   "id": "5b1eb41d",
   "metadata": {},
   "outputs": [
    {
     "name": "stderr",
     "output_type": "stream",
     "text": [
      "C:\\Users\\hp\\AppData\\Local\\Temp\\ipykernel_10280\\2504320895.py:6: FutureWarning: iteritems is deprecated and will be removed in a future version. Use .items instead.\n",
      "  for _, column in monthly_data.iteritems():\n"
     ]
    },
    {
     "data": {
      "text/html": [
       "<div>\n",
       "<style scoped>\n",
       "    .dataframe tbody tr th:only-of-type {\n",
       "        vertical-align: middle;\n",
       "    }\n",
       "\n",
       "    .dataframe tbody tr th {\n",
       "        vertical-align: top;\n",
       "    }\n",
       "\n",
       "    .dataframe thead th {\n",
       "        text-align: right;\n",
       "    }\n",
       "</style>\n",
       "<table border=\"1\" class=\"dataframe\">\n",
       "  <thead>\n",
       "    <tr style=\"text-align: right;\">\n",
       "      <th></th>\n",
       "      <th>residential_const_val</th>\n",
       "    </tr>\n",
       "  </thead>\n",
       "  <tbody>\n",
       "    <tr>\n",
       "      <th>2001-01</th>\n",
       "      <td>348279</td>\n",
       "    </tr>\n",
       "    <tr>\n",
       "      <th>2001-02</th>\n",
       "      <td>377631</td>\n",
       "    </tr>\n",
       "    <tr>\n",
       "      <th>2001-03</th>\n",
       "      <td>417788</td>\n",
       "    </tr>\n",
       "    <tr>\n",
       "      <th>2001-04</th>\n",
       "      <td>498640</td>\n",
       "    </tr>\n",
       "    <tr>\n",
       "      <th>2001-05</th>\n",
       "      <td>575650</td>\n",
       "    </tr>\n",
       "    <tr>\n",
       "      <th>...</th>\n",
       "      <td>...</td>\n",
       "    </tr>\n",
       "    <tr>\n",
       "      <th>2007-08</th>\n",
       "      <td>597672</td>\n",
       "    </tr>\n",
       "    <tr>\n",
       "      <th>2007-09</th>\n",
       "      <td>360534</td>\n",
       "    </tr>\n",
       "    <tr>\n",
       "      <th>2007-10</th>\n",
       "      <td>394223</td>\n",
       "    </tr>\n",
       "    <tr>\n",
       "      <th>2007-11</th>\n",
       "      <td>421143</td>\n",
       "    </tr>\n",
       "    <tr>\n",
       "      <th>2007-12</th>\n",
       "      <td>522534</td>\n",
       "    </tr>\n",
       "  </tbody>\n",
       "</table>\n",
       "<p>84 rows × 1 columns</p>\n",
       "</div>"
      ],
      "text/plain": [
       "         residential_const_val\n",
       "2001-01                 348279\n",
       "2001-02                 377631\n",
       "2001-03                 417788\n",
       "2001-04                 498640\n",
       "2001-05                 575650\n",
       "...                        ...\n",
       "2007-08                 597672\n",
       "2007-09                 360534\n",
       "2007-10                 394223\n",
       "2007-11                 421143\n",
       "2007-12                 522534\n",
       "\n",
       "[84 rows x 1 columns]"
      ]
     },
     "execution_count": 44,
     "metadata": {},
     "output_type": "execute_result"
    }
   ],
   "source": [
    "tdf = pd.read_csv(\"C:/Users/hp/Desktop/task/task.llc/data/residentialsa-ValueOfConstruction.csv\")\n",
    "tdf = tdf.drop([0,21,22], axis=0).reset_index(drop=True)\n",
    "monthly_data = tdf.loc[:, tdf.columns != \"Year\"]\n",
    "\n",
    "monthly_values = []\n",
    "for _, column in monthly_data.iteritems():\n",
    "    monthly_values.extend(column)\n",
    "\n",
    "# Truncate monthly_values to match the length of monthly_rng\n",
    "monthly_values = monthly_values[:len(monthly_rng)]\n",
    "\n",
    "tdf = pd.DataFrame(monthly_values, index=monthly_rng)\n",
    "tdf[0] = tdf[0].str.replace(\",\", \"\").astype(\"int\")\n",
    "tdf.rename(columns={0: \"residential_const_val\"}, inplace=True)\n",
    "tdf.index = tdf.index.strftime(\"%Y-%m\")\n",
    "tdf.to_csv(\"C:/Users/hp/Desktop/task/task.llc/cleaned_data/residential_construction_val.csv\")\n",
    "tdf"
   ]
  },
  {
   "cell_type": "markdown",
   "id": "086a254c",
   "metadata": {},
   "source": [
    "## nonresidential-valueOfConstruction-Monthly"
   ]
  },
  {
   "cell_type": "code",
   "execution_count": 47,
   "id": "c0cd103c",
   "metadata": {},
   "outputs": [],
   "source": [
    "tdf = pd.read_csv(\"C:/Users/hp/Desktop/task/task.llc/data/nonresidentialsa-valueOfConstriction-Monthly.csv\")\n",
    "tdf = tdf.drop([0], axis=0).reset_index(drop=True)\n",
    "monthly_data = tdf.loc[:, tdf.columns != \"Year\"]\n",
    "\n",
    "monthly_values = []\n",
    "for _, column in monthly_data.items():\n",
    "    monthly_values.extend(column)\n",
    "\n",
    "# Trim the monthly_values list to match the length of monthly_rng\n",
    "monthly_values = monthly_values[:len(monthly_rng)]\n",
    "\n",
    "tdf = pd.DataFrame(monthly_values, index=monthly_rng)\n",
    "tdf[0] = tdf[0].str.replace(\",\", \"\").astype(\"int\")\n",
    "tdf.rename(columns={0: \"nonresidential_const_val\"}, inplace=True)\n",
    "tdf.index = tdf.index.strftime(\"%Y-%m\")\n",
    "tdf.to_csv(\"C:/Users/hp/Desktop/task/task.llc/cleaned_data/nonresidential_const_val.csv\")\n"
   ]
  },
  {
   "cell_type": "markdown",
   "id": "9c438195",
   "metadata": {},
   "source": [
    "## Permits_Granted_Monthly"
   ]
  },
  {
   "cell_type": "code",
   "execution_count": 48,
   "id": "94858452",
   "metadata": {},
   "outputs": [
    {
     "data": {
      "text/html": [
       "<div>\n",
       "<style scoped>\n",
       "    .dataframe tbody tr th:only-of-type {\n",
       "        vertical-align: middle;\n",
       "    }\n",
       "\n",
       "    .dataframe tbody tr th {\n",
       "        vertical-align: top;\n",
       "    }\n",
       "\n",
       "    .dataframe thead th {\n",
       "        text-align: right;\n",
       "    }\n",
       "</style>\n",
       "<table border=\"1\" class=\"dataframe\">\n",
       "  <thead>\n",
       "    <tr style=\"text-align: right;\">\n",
       "      <th></th>\n",
       "      <th>permits</th>\n",
       "    </tr>\n",
       "    <tr>\n",
       "      <th>DATE</th>\n",
       "      <th></th>\n",
       "    </tr>\n",
       "  </thead>\n",
       "  <tbody>\n",
       "    <tr>\n",
       "      <th>2001-01</th>\n",
       "      <td>1699</td>\n",
       "    </tr>\n",
       "    <tr>\n",
       "      <th>2001-02</th>\n",
       "      <td>1656</td>\n",
       "    </tr>\n",
       "    <tr>\n",
       "      <th>2001-03</th>\n",
       "      <td>1659</td>\n",
       "    </tr>\n",
       "    <tr>\n",
       "      <th>2001-04</th>\n",
       "      <td>1666</td>\n",
       "    </tr>\n",
       "    <tr>\n",
       "      <th>2001-05</th>\n",
       "      <td>1665</td>\n",
       "    </tr>\n",
       "    <tr>\n",
       "      <th>...</th>\n",
       "      <td>...</td>\n",
       "    </tr>\n",
       "    <tr>\n",
       "      <th>2020-08</th>\n",
       "      <td>1522</td>\n",
       "    </tr>\n",
       "    <tr>\n",
       "      <th>2020-09</th>\n",
       "      <td>1589</td>\n",
       "    </tr>\n",
       "    <tr>\n",
       "      <th>2020-10</th>\n",
       "      <td>1595</td>\n",
       "    </tr>\n",
       "    <tr>\n",
       "      <th>2020-11</th>\n",
       "      <td>1696</td>\n",
       "    </tr>\n",
       "    <tr>\n",
       "      <th>2020-12</th>\n",
       "      <td>1758</td>\n",
       "    </tr>\n",
       "  </tbody>\n",
       "</table>\n",
       "<p>240 rows × 1 columns</p>\n",
       "</div>"
      ],
      "text/plain": [
       "         permits\n",
       "DATE            \n",
       "2001-01     1699\n",
       "2001-02     1656\n",
       "2001-03     1659\n",
       "2001-04     1666\n",
       "2001-05     1665\n",
       "...          ...\n",
       "2020-08     1522\n",
       "2020-09     1589\n",
       "2020-10     1595\n",
       "2020-11     1696\n",
       "2020-12     1758\n",
       "\n",
       "[240 rows x 1 columns]"
      ]
     },
     "execution_count": 48,
     "metadata": {},
     "output_type": "execute_result"
    }
   ],
   "source": [
    "tdf = pd.read_csv(\"C:/Users/hp/Desktop/task/task.llc/data/Permits_Granted_Monthly.csv\")\n",
    "tdf.DATE = pd.to_datetime(tdf.DATE,format=\"%d-%m-%Y\")\n",
    "tdf.DATE = tdf.DATE.dt.strftime('%Y-%m')\n",
    "tdf.set_index(tdf.DATE,inplace=True)\n",
    "tdf.drop(columns={\"DATE\"},inplace=True)\n",
    "tdf.rename(columns={\"PERMIT(th)\":\"permits\"},inplace=True)\n",
    "tdf = tdf[\"2001-01\":\"2020-12\"]\n",
    "\n",
    "tdf.to_csv(\"C:/Users/hp/Desktop/task/task.llc/cleaned_data/Permits_Granted_Monthly.csv\")\n",
    "tdf"
   ]
  },
  {
   "cell_type": "markdown",
   "id": "125883a9",
   "metadata": {},
   "source": [
    "## personal saving rate"
   ]
  },
  {
   "cell_type": "code",
   "execution_count": 50,
   "id": "051bd525",
   "metadata": {},
   "outputs": [
    {
     "data": {
      "text/html": [
       "<div>\n",
       "<style scoped>\n",
       "    .dataframe tbody tr th:only-of-type {\n",
       "        vertical-align: middle;\n",
       "    }\n",
       "\n",
       "    .dataframe tbody tr th {\n",
       "        vertical-align: top;\n",
       "    }\n",
       "\n",
       "    .dataframe thead th {\n",
       "        text-align: right;\n",
       "    }\n",
       "</style>\n",
       "<table border=\"1\" class=\"dataframe\">\n",
       "  <thead>\n",
       "    <tr style=\"text-align: right;\">\n",
       "      <th></th>\n",
       "      <th>personal_saving_rate</th>\n",
       "    </tr>\n",
       "    <tr>\n",
       "      <th>DATE</th>\n",
       "      <th></th>\n",
       "    </tr>\n",
       "  </thead>\n",
       "  <tbody>\n",
       "    <tr>\n",
       "      <th>2001-01</th>\n",
       "      <td>4.9</td>\n",
       "    </tr>\n",
       "    <tr>\n",
       "      <th>2001-02</th>\n",
       "      <td>5.0</td>\n",
       "    </tr>\n",
       "    <tr>\n",
       "      <th>2001-03</th>\n",
       "      <td>5.3</td>\n",
       "    </tr>\n",
       "    <tr>\n",
       "      <th>2001-04</th>\n",
       "      <td>5.1</td>\n",
       "    </tr>\n",
       "    <tr>\n",
       "      <th>2001-05</th>\n",
       "      <td>4.5</td>\n",
       "    </tr>\n",
       "    <tr>\n",
       "      <th>...</th>\n",
       "      <td>...</td>\n",
       "    </tr>\n",
       "    <tr>\n",
       "      <th>2020-08</th>\n",
       "      <td>15.0</td>\n",
       "    </tr>\n",
       "    <tr>\n",
       "      <th>2020-09</th>\n",
       "      <td>14.3</td>\n",
       "    </tr>\n",
       "    <tr>\n",
       "      <th>2020-10</th>\n",
       "      <td>13.6</td>\n",
       "    </tr>\n",
       "    <tr>\n",
       "      <th>2020-11</th>\n",
       "      <td>13.0</td>\n",
       "    </tr>\n",
       "    <tr>\n",
       "      <th>2020-12</th>\n",
       "      <td>14.0</td>\n",
       "    </tr>\n",
       "  </tbody>\n",
       "</table>\n",
       "<p>240 rows × 1 columns</p>\n",
       "</div>"
      ],
      "text/plain": [
       "         personal_saving_rate\n",
       "DATE                         \n",
       "2001-01                   4.9\n",
       "2001-02                   5.0\n",
       "2001-03                   5.3\n",
       "2001-04                   5.1\n",
       "2001-05                   4.5\n",
       "...                       ...\n",
       "2020-08                  15.0\n",
       "2020-09                  14.3\n",
       "2020-10                  13.6\n",
       "2020-11                  13.0\n",
       "2020-12                  14.0\n",
       "\n",
       "[240 rows x 1 columns]"
      ]
     },
     "execution_count": 50,
     "metadata": {},
     "output_type": "execute_result"
    }
   ],
   "source": [
    "tdf = pd.read_csv(\"C:/Users/hp/Desktop/task/task.llc/data/personal saving rate.csv\")\n",
    "tdf.DATE = pd.to_datetime(tdf.DATE,format=\"%d-%m-%Y\")\n",
    "tdf.DATE = tdf.DATE.dt.strftime('%Y-%m')\n",
    "tdf.set_index(tdf.DATE,inplace=True)\n",
    "tdf.drop(columns={\"DATE\"},inplace=True)\n",
    "tdf.rename(columns={\"PSAVERT\":\"personal_saving_rate\"},inplace=True)\n",
    "tdf = tdf[\"2001-01\":\"2020-12\"]\n",
    "\n",
    "tdf.to_csv(\"C:/Users/hp/Desktop/task/task.llc/cleaned_data/personal_saving_rate.csv\")\n",
    "tdf"
   ]
  },
  {
   "cell_type": "markdown",
   "id": "9bbbee47",
   "metadata": {},
   "source": [
    "## Population_Quarterly"
   ]
  },
  {
   "cell_type": "code",
   "execution_count": 81,
   "id": "85e0a6ed",
   "metadata": {},
   "outputs": [],
   "source": [
    "tdf = pd.read_csv(\"C:/Users/hp/Desktop/task/task.llc/data/Population_Quarterly.csv\")\n",
    "tdf.DATE = pd.to_datetime(tdf.DATE,format=\"%d-%m-%Y\")\n",
    "tdf.DATE = tdf.DATE.dt.strftime('%Y-%m')\n",
    "tdf.set_index(tdf.DATE,inplace=True)\n",
    "\n",
    "tdf = tdf[\"2001-01\":\"2021-01\"]\n",
    "    \n",
    "tdf = quaterly_monthly(tdf[\"B230RC0Q173SBEA\"],monthly_rng)\n",
    "tdf.rename(columns = {0:\"population\"},inplace=True)\n",
    "tdf.index = tdf.index.strftime(\"%Y-%m\")\n",
    "# tdf\n",
    "tdf.to_csv(\"C:/Users/hp/Desktop/task/task.llc/cleaned_data/Population_Quarterly.csv\")"
   ]
  },
  {
   "cell_type": "markdown",
   "id": "ecb1ebdd",
   "metadata": {},
   "source": [
    "## privately_owned_housing_units_completed"
   ]
  },
  {
   "cell_type": "code",
   "execution_count": 82,
   "id": "6a8293a0",
   "metadata": {},
   "outputs": [
    {
     "data": {
      "text/html": [
       "<div>\n",
       "<style scoped>\n",
       "    .dataframe tbody tr th:only-of-type {\n",
       "        vertical-align: middle;\n",
       "    }\n",
       "\n",
       "    .dataframe tbody tr th {\n",
       "        vertical-align: top;\n",
       "    }\n",
       "\n",
       "    .dataframe thead th {\n",
       "        text-align: right;\n",
       "    }\n",
       "</style>\n",
       "<table border=\"1\" class=\"dataframe\">\n",
       "  <thead>\n",
       "    <tr style=\"text-align: right;\">\n",
       "      <th></th>\n",
       "      <th>house_units_completed</th>\n",
       "    </tr>\n",
       "    <tr>\n",
       "      <th>DATE</th>\n",
       "      <th></th>\n",
       "    </tr>\n",
       "  </thead>\n",
       "  <tbody>\n",
       "    <tr>\n",
       "      <th>2001-01</th>\n",
       "      <td>1456.0</td>\n",
       "    </tr>\n",
       "    <tr>\n",
       "      <th>2001-02</th>\n",
       "      <td>1536.0</td>\n",
       "    </tr>\n",
       "    <tr>\n",
       "      <th>2001-03</th>\n",
       "      <td>1470.0</td>\n",
       "    </tr>\n",
       "    <tr>\n",
       "      <th>2001-04</th>\n",
       "      <td>1574.0</td>\n",
       "    </tr>\n",
       "    <tr>\n",
       "      <th>2001-05</th>\n",
       "      <td>1497.0</td>\n",
       "    </tr>\n",
       "    <tr>\n",
       "      <th>...</th>\n",
       "      <td>...</td>\n",
       "    </tr>\n",
       "    <tr>\n",
       "      <th>2020-08</th>\n",
       "      <td>1216.0</td>\n",
       "    </tr>\n",
       "    <tr>\n",
       "      <th>2020-09</th>\n",
       "      <td>1426.0</td>\n",
       "    </tr>\n",
       "    <tr>\n",
       "      <th>2020-10</th>\n",
       "      <td>1356.0</td>\n",
       "    </tr>\n",
       "    <tr>\n",
       "      <th>2020-11</th>\n",
       "      <td>1244.0</td>\n",
       "    </tr>\n",
       "    <tr>\n",
       "      <th>2020-12</th>\n",
       "      <td>1386.0</td>\n",
       "    </tr>\n",
       "  </tbody>\n",
       "</table>\n",
       "<p>240 rows × 1 columns</p>\n",
       "</div>"
      ],
      "text/plain": [
       "         house_units_completed\n",
       "DATE                          \n",
       "2001-01                 1456.0\n",
       "2001-02                 1536.0\n",
       "2001-03                 1470.0\n",
       "2001-04                 1574.0\n",
       "2001-05                 1497.0\n",
       "...                        ...\n",
       "2020-08                 1216.0\n",
       "2020-09                 1426.0\n",
       "2020-10                 1356.0\n",
       "2020-11                 1244.0\n",
       "2020-12                 1386.0\n",
       "\n",
       "[240 rows x 1 columns]"
      ]
     },
     "execution_count": 82,
     "metadata": {},
     "output_type": "execute_result"
    }
   ],
   "source": [
    "tdf = pd.read_csv(\"C:/Users/hp/Desktop/task/task.llc/data/privately_owned_housing_units_completed.csv\")\n",
    "tdf.DATE = pd.to_datetime(tdf.DATE,format=\"%Y-%m-%d\")\n",
    "tdf.DATE = tdf.DATE.dt.strftime('%Y-%m')\n",
    "tdf.set_index(tdf.DATE,inplace=True)\n",
    "\n",
    "tdf = tdf[\"2001-01\":\"2020-12\"]\n",
    "    \n",
    "# tdf = quaterly_monthly(tdf[\"B230RC0Q173SBEA\"],monthly_rng)\n",
    "tdf.rename(columns = {\"COMPUTSA\":\"house_units_completed\"},inplace=True)\n",
    "tdf.drop(columns={\"DATE\"},inplace=True)\n",
    "# tdf.index = tdf.index.strftime(\"%Y-%m\")\n",
    "# # tdf\n",
    "tdf.to_csv(\"C:/Users/hp/Desktop/task/task.llc/cleaned_data/privately_owned_housing_units_completed.csv\")\n",
    "tdf"
   ]
  },
  {
   "cell_type": "markdown",
   "id": "27b4e9a6",
   "metadata": {},
   "source": [
    "## retail_sales_home_furnishing_stores"
   ]
  },
  {
   "cell_type": "code",
   "execution_count": 85,
   "id": "ac4c1a6b",
   "metadata": {},
   "outputs": [],
   "source": [
    "tdf = pd.read_csv(\"C:/Users/hp/Desktop/task/task.llc/data/retail_sales_home_furnishing_stores.csv\")\n",
    "tdf.DATE = pd.to_datetime(tdf.DATE,format=\"%Y-%m-%d\")\n",
    "tdf.DATE = tdf.DATE.dt.strftime('%Y-%m')\n",
    "tdf.set_index(tdf.DATE,inplace=True)\n",
    "\n",
    "tdf = tdf[\"2001-01\":\"2020-12\"]\n",
    "\n",
    "tdf.rename(columns = {\"MRTSSM442USS\":\"retail_sales_home_furnishing_stores\"},inplace=True)\n",
    "tdf.drop(columns={\"DATE\"},inplace=True)\n",
    "# tdf.index = tdf.index.strftime(\"%Y-%m\")\n",
    "tdf.to_csv(\"C:/Users/hp/Desktop/task/task.llc/cleaned_data/retail_sales_home_furnishing_stores.csv\")"
   ]
  },
  {
   "cell_type": "markdown",
   "id": "ea105072",
   "metadata": {},
   "source": [
    "## Unemployment rate"
   ]
  },
  {
   "cell_type": "code",
   "execution_count": 88,
   "id": "a9154b4b",
   "metadata": {},
   "outputs": [],
   "source": [
    "tdf = pd.read_csv(\"C:/Users/hp/Desktop/task/task.llc/data/Unemployment rate.csv\")\n",
    "tdf.DATE = pd.to_datetime(tdf.DATE,format=\"%Y-%m-%d\")\n",
    "tdf.DATE = tdf.DATE.dt.strftime('%Y-%m')\n",
    "tdf.set_index(tdf.DATE,inplace=True)\n",
    "\n",
    "tdf = tdf[\"2001-01\":\"2020-12\"]\n",
    "\n",
    "tdf.rename(columns = {\"MRTSSM442USS\":\"unrate\"},inplace=True)\n",
    "tdf.drop(columns={\"DATE\"},inplace=True)\n",
    "#tdf.index = tdf.index.strftime(\"%Y-%m\")\n",
    "tdf.to_csv(\"C:/Users/hp/Desktop/task/task.llc/cleaned_data/Unemployment_rate.csv\")"
   ]
  },
  {
   "cell_type": "markdown",
   "id": "7e2813fd",
   "metadata": {},
   "source": [
    "## unemployment_rate_construction"
   ]
  },
  {
   "cell_type": "code",
   "execution_count": 90,
   "id": "2ada4215",
   "metadata": {},
   "outputs": [],
   "source": [
    "tdf = pd.read_csv(\"C:/Users/hp/Desktop/task/task.llc/data/unemployment_rate_construction.csv\")\n",
    "tdf.DATE = pd.to_datetime(tdf.DATE,format=\"%Y-%m-%d\")\n",
    "tdf.DATE = tdf.DATE.dt.strftime('%Y-%m')\n",
    "tdf.set_index(tdf.DATE,inplace=True)\n",
    "\n",
    "tdf = tdf[\"2001-01\":\"2020-12\"]\n",
    "\n",
    "tdf.rename(columns = {\"LNU04032231\":\"unrate_construction\"},inplace=True)\n",
    "tdf.drop(columns={\"DATE\"},inplace=True)\n",
    "tdf.to_csv(\"C:/Users/hp/Desktop/task/task.llc/cleaned_data/unemp_rate_construction.csv\")"
   ]
  },
  {
   "cell_type": "markdown",
   "id": "f154be66",
   "metadata": {},
   "source": [
    "## Industrial_production_cement"
   ]
  },
  {
   "cell_type": "code",
   "execution_count": 93,
   "id": "ee362683",
   "metadata": {},
   "outputs": [],
   "source": [
    "tdf = pd.read_csv(\"C:/Users/hp/Desktop/task/task.llc/data/Industrial_production_cement.csv\")\n",
    "tdf.DATE = pd.to_datetime(tdf.DATE,format=\"%Y-%m-%d\")\n",
    "tdf.DATE = tdf.DATE.dt.strftime('%Y-%m')\n",
    "tdf.set_index(tdf.DATE,inplace=True)\n",
    "\n",
    "tdf = tdf[\"2001-01\":\"2020-12\"]\n",
    "\n",
    "tdf.rename(columns = {\"IPN32731S\":\"industrial_production_cement\"},inplace=True)\n",
    "tdf.drop(columns={\"DATE\"},inplace=True)\n",
    "tdf.to_csv(\"C:/Users/hp/Desktop/task/task.llc/cleaned_data/ind_production_cement.csv\")"
   ]
  },
  {
   "cell_type": "markdown",
   "id": "e620ba88",
   "metadata": {},
   "source": [
    "## producer_price_index_concrete_brick"
   ]
  },
  {
   "cell_type": "code",
   "execution_count": 94,
   "id": "3baf18b7",
   "metadata": {},
   "outputs": [],
   "source": [
    "tdf = pd.read_csv(\"C:/Users/hp/Desktop/task/task.llc/data/producer_price_index_concrete_brick.csv\")\n",
    "tdf.DATE = pd.to_datetime(tdf.DATE,format=\"%Y-%m-%d\")\n",
    "tdf.DATE = tdf.DATE.dt.strftime('%Y-%m')\n",
    "tdf.set_index(tdf.DATE,inplace=True)\n",
    "\n",
    "tdf = tdf[\"2001-01\":\"2020-12\"]\n",
    "\n",
    "tdf.rename(columns = {\"PCU32733132733106\":\"producer_price_index_concrete_brick\"},inplace=True)\n",
    "tdf.drop(columns={\"DATE\"},inplace=True)\n",
    "tdf.to_csv(\"C:/Users/hp/Desktop/task/task.llc/cleaned_data/producer_price_index_concrete_brick.csv\")"
   ]
  },
  {
   "cell_type": "markdown",
   "id": "b2df295e",
   "metadata": {},
   "source": [
    "## Target"
   ]
  },
  {
   "cell_type": "code",
   "execution_count": 95,
   "id": "d9bb8bb2",
   "metadata": {},
   "outputs": [],
   "source": [
    "tdf = pd.read_csv(\"C:/Users/hp/Desktop/task/task.llc/data/target.csv\")\n",
    "tdf.DATE = pd.to_datetime(tdf.DATE,format=\"%Y-%m-%d\")\n",
    "tdf.DATE = tdf.DATE.dt.strftime('%Y-%m')\n",
    "tdf.set_index(tdf.DATE,inplace=True)\n",
    "\n",
    "tdf = tdf[\"2001-01\":\"2020-12\"]\n",
    "\n",
    "tdf.rename(columns = {\"CSUSHPISA\":\"target\"},inplace=True)\n",
    "tdf.drop(columns={\"DATE\"},inplace=True)\n",
    "tdf.to_csv(\"C:/Users/hp/Desktop/task/task.llc/cleaned_data/target.csv\")"
   ]
  },
  {
   "cell_type": "code",
   "execution_count": null,
   "id": "a59039e7",
   "metadata": {},
   "outputs": [],
   "source": []
  }
 ],
 "metadata": {
  "kernelspec": {
   "display_name": "Python 3 (ipykernel)",
   "language": "python",
   "name": "python3"
  },
  "language_info": {
   "codemirror_mode": {
    "name": "ipython",
    "version": 3
   },
   "file_extension": ".py",
   "mimetype": "text/x-python",
   "name": "python",
   "nbconvert_exporter": "python",
   "pygments_lexer": "ipython3",
   "version": "3.10.9"
  }
 },
 "nbformat": 4,
 "nbformat_minor": 5
}
